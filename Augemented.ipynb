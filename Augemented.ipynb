{
  "nbformat": 4,
  "nbformat_minor": 0,
  "metadata": {
    "colab": {
      "name": "Augemented.ipynb",
      "provenance": [],
      "collapsed_sections": [],
      "mount_file_id": "1ORKwbTIfBmltRfC-z0gZ30GDG6lDz1o-",
      "authorship_tag": "ABX9TyM8yoV8ZJeadCipwyuSNkpm",
      "include_colab_link": true
    },
    "kernelspec": {
      "display_name": "Python 3",
      "name": "python3"
    },
    "language_info": {
      "name": "python"
    },
    "accelerator": "GPU"
  },
  "cells": [
    {
      "cell_type": "markdown",
      "metadata": {
        "id": "view-in-github",
        "colab_type": "text"
      },
      "source": [
        "<a href=\"https://colab.research.google.com/github/sikandarmir/Skin-Anomaly-Detection/blob/main/Augemented.ipynb\" target=\"_parent\"><img src=\"https://colab.research.google.com/assets/colab-badge.svg\" alt=\"Open In Colab\"/></a>"
      ]
    },
    {
      "cell_type": "code",
      "metadata": {
        "id": "1JRQLS1eEgGT"
      },
      "source": [
        "import numpy as np\n",
        "from skimage import io\n",
        "import os\n",
        "from PIL import Image\n",
        "from keras.preprocessing.image import ImageDataGenerator\n",
        "from skimage import io\n",
        "\n",
        "# Construct an instance of the ImageDataGenerator class\n",
        "# Pass the augmentation parameters through the constructor. \n",
        "\n",
        "datagen = ImageDataGenerator(\n",
        "        rotation_range=5,     #Random rotation between 0 and 45\n",
        "        width_shift_range=0,   #% shift\n",
        "        height_shift_range=0,\n",
        "        shear_range=0,\n",
        "        zoom_range=0.2,\n",
        "        horizontal_flip=True,\n",
        "        vertical_flip=True,\n",
        "        fill_mode='wrap'#, cval=125\n",
        "        #fill_mode='nearest'\n",
        "         )    #Also try nearest, constant, reflect, wrap"
      ],
      "execution_count": null,
      "outputs": []
    },
    {
      "cell_type": "code",
      "metadata": {
        "id": "AYcPDYidEvaI"
      },
      "source": [
        "image_directory = '/content/drive/MyDrive/Data_set/Train_data/No/'\n",
        "SIZE = 320\n",
        "dataset = []\n",
        "\n",
        "my_images = os.listdir(image_directory)\n",
        "for i, image_name in enumerate(my_images):\n",
        "    if (image_name.split('.')[1] == 'jpg'):\n",
        "        image = io.imread(image_directory + image_name)\n",
        "        image = Image.fromarray(image, 'RGB')\n",
        "        image = image.resize((SIZE,SIZE))\n",
        "        dataset.append(np.array(image))\n",
        "#         print('image')\n",
        "x = np.array(dataset)\n",
        "\n",
        "\n",
        "# #x.shape\n",
        "# len(dataset)"
      ],
      "execution_count": null,
      "outputs": []
    },
    {
      "cell_type": "code",
      "metadata": {
        "colab": {
          "base_uri": "https://localhost:8080/"
        },
        "id": "fxUqOO6TFb7Z",
        "outputId": "d6ad29bf-147c-41b4-bd29-2fca2332b629"
      },
      "source": [
        "from google.colab import drive\n",
        "drive.mount('/content/drive')"
      ],
      "execution_count": null,
      "outputs": [
        {
          "output_type": "stream",
          "name": "stdout",
          "text": [
            "Drive already mounted at /content/drive; to attempt to forcibly remount, call drive.mount(\"/content/drive\", force_remount=True).\n"
          ]
        }
      ]
    },
    {
      "cell_type": "code",
      "metadata": {
        "id": "AgSa7GtRFf86"
      },
      "source": [
        "i = 0\n",
        "for batch in datagen.flow(x, batch_size=64,  \n",
        "                          save_to_dir='/content/drive/MyDrive/Data/Aug/Non_Melanoma/', \n",
        "                          save_prefix='aug', \n",
        "                          save_format='jpg'):\n",
        "    i += 1\n",
        "    if i > 250:\n",
        "        break"
      ],
      "execution_count": null,
      "outputs": []
    },
    {
      "cell_type": "code",
      "metadata": {
        "id": "IRLKrCJoFmoy",
        "colab": {
          "base_uri": "https://localhost:8080/"
        },
        "outputId": "399cb44d-d035-42b0-f444-2065c27017e2"
      },
      "source": [
        "import os\n",
        "len(os.listdir('/content/drive/MyDrive/Data/Aug/Non_Melanoma'))"
      ],
      "execution_count": null,
      "outputs": [
        {
          "output_type": "execute_result",
          "data": {
            "text/plain": [
              "10874"
            ]
          },
          "metadata": {},
          "execution_count": 21
        }
      ]
    },
    {
      "cell_type": "code",
      "metadata": {
        "colab": {
          "base_uri": "https://localhost:8080/"
        },
        "id": "sxeQkX34bfPi",
        "outputId": "8a156d40-d965-4da3-dadf-6d3dcc93f5b3"
      },
      "source": [
        "91*50/\n"
      ],
      "execution_count": null,
      "outputs": [
        {
          "output_type": "execute_result",
          "data": {
            "text/plain": [
              "4550"
            ]
          },
          "metadata": {},
          "execution_count": 8
        }
      ]
    },
    {
      "cell_type": "code",
      "metadata": {
        "id": "HZkZT82wboVG"
      },
      "source": [
        ""
      ],
      "execution_count": null,
      "outputs": []
    }
  ]
}